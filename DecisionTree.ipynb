{
 "cells": [
  {
   "cell_type": "markdown",
   "id": "396d095d",
   "metadata": {},
   "source": [
    "## 3. Arboles de Decisión de dataset winequality-red"
   ]
  },
  {
   "cell_type": "code",
   "execution_count": 1,
   "id": "33eac6e2-1058-4460-b355-d8b7f91e1bf5",
   "metadata": {
    "tags": []
   },
   "outputs": [],
   "source": [
    "import matplotlib.pyplot as plt\n",
    "from sklearn import linear_model\n",
    "import seaborn as sns\n",
    "import numpy as np\n",
    "import pandas as pd"
   ]
  },
  {
   "cell_type": "markdown",
   "id": "cb8e37c9",
   "metadata": {},
   "source": [
    "Contiene información de 10 clases de calidad del vino"
   ]
  },
  {
   "cell_type": "code",
   "execution_count": 2,
   "id": "4ee9b751-0ea1-4442-ad0d-7bcff5f46131",
   "metadata": {
    "tags": []
   },
   "outputs": [],
   "source": [
    "data = pd.read_csv(\"./csv/winequality-red.csv\", sep=\",\")"
   ]
  },
  {
   "cell_type": "code",
   "execution_count": 10,
   "id": "d75f2a75",
   "metadata": {},
   "outputs": [
    {
     "data": {
      "text/html": [
       "<div>\n",
       "<style scoped>\n",
       "    .dataframe tbody tr th:only-of-type {\n",
       "        vertical-align: middle;\n",
       "    }\n",
       "\n",
       "    .dataframe tbody tr th {\n",
       "        vertical-align: top;\n",
       "    }\n",
       "\n",
       "    .dataframe thead th {\n",
       "        text-align: right;\n",
       "    }\n",
       "</style>\n",
       "<table border=\"1\" class=\"dataframe\">\n",
       "  <thead>\n",
       "    <tr style=\"text-align: right;\">\n",
       "      <th></th>\n",
       "      <th>fixed acidity</th>\n",
       "      <th>volatile acidity</th>\n",
       "      <th>citric acid</th>\n",
       "      <th>residual sugar</th>\n",
       "      <th>chlorides</th>\n",
       "      <th>free sulfur dioxide</th>\n",
       "      <th>total sulfur dioxide</th>\n",
       "      <th>density</th>\n",
       "      <th>pH</th>\n",
       "      <th>sulphates</th>\n",
       "      <th>alcohol</th>\n",
       "      <th>quality</th>\n",
       "    </tr>\n",
       "  </thead>\n",
       "  <tbody>\n",
       "    <tr>\n",
       "      <th>0</th>\n",
       "      <td>7.4</td>\n",
       "      <td>0.700</td>\n",
       "      <td>0.00</td>\n",
       "      <td>1.9</td>\n",
       "      <td>0.076</td>\n",
       "      <td>11.0</td>\n",
       "      <td>34.0</td>\n",
       "      <td>0.9978</td>\n",
       "      <td>3.51</td>\n",
       "      <td>0.56</td>\n",
       "      <td>9.4</td>\n",
       "      <td>5</td>\n",
       "    </tr>\n",
       "    <tr>\n",
       "      <th>1</th>\n",
       "      <td>7.8</td>\n",
       "      <td>0.880</td>\n",
       "      <td>0.00</td>\n",
       "      <td>2.6</td>\n",
       "      <td>0.098</td>\n",
       "      <td>25.0</td>\n",
       "      <td>67.0</td>\n",
       "      <td>0.9968</td>\n",
       "      <td>3.20</td>\n",
       "      <td>0.68</td>\n",
       "      <td>9.8</td>\n",
       "      <td>5</td>\n",
       "    </tr>\n",
       "    <tr>\n",
       "      <th>2</th>\n",
       "      <td>7.8</td>\n",
       "      <td>0.760</td>\n",
       "      <td>0.04</td>\n",
       "      <td>2.3</td>\n",
       "      <td>0.092</td>\n",
       "      <td>15.0</td>\n",
       "      <td>54.0</td>\n",
       "      <td>0.9970</td>\n",
       "      <td>3.26</td>\n",
       "      <td>0.65</td>\n",
       "      <td>9.8</td>\n",
       "      <td>5</td>\n",
       "    </tr>\n",
       "    <tr>\n",
       "      <th>3</th>\n",
       "      <td>11.2</td>\n",
       "      <td>0.280</td>\n",
       "      <td>0.56</td>\n",
       "      <td>1.9</td>\n",
       "      <td>0.075</td>\n",
       "      <td>17.0</td>\n",
       "      <td>60.0</td>\n",
       "      <td>0.9980</td>\n",
       "      <td>3.16</td>\n",
       "      <td>0.58</td>\n",
       "      <td>9.8</td>\n",
       "      <td>6</td>\n",
       "    </tr>\n",
       "    <tr>\n",
       "      <th>4</th>\n",
       "      <td>7.4</td>\n",
       "      <td>0.700</td>\n",
       "      <td>0.00</td>\n",
       "      <td>1.9</td>\n",
       "      <td>0.076</td>\n",
       "      <td>11.0</td>\n",
       "      <td>34.0</td>\n",
       "      <td>0.9978</td>\n",
       "      <td>3.51</td>\n",
       "      <td>0.56</td>\n",
       "      <td>9.4</td>\n",
       "      <td>5</td>\n",
       "    </tr>\n",
       "    <tr>\n",
       "      <th>5</th>\n",
       "      <td>7.4</td>\n",
       "      <td>0.660</td>\n",
       "      <td>0.00</td>\n",
       "      <td>1.8</td>\n",
       "      <td>0.075</td>\n",
       "      <td>13.0</td>\n",
       "      <td>40.0</td>\n",
       "      <td>0.9978</td>\n",
       "      <td>3.51</td>\n",
       "      <td>0.56</td>\n",
       "      <td>9.4</td>\n",
       "      <td>5</td>\n",
       "    </tr>\n",
       "    <tr>\n",
       "      <th>6</th>\n",
       "      <td>7.9</td>\n",
       "      <td>0.600</td>\n",
       "      <td>0.06</td>\n",
       "      <td>1.6</td>\n",
       "      <td>0.069</td>\n",
       "      <td>15.0</td>\n",
       "      <td>59.0</td>\n",
       "      <td>0.9964</td>\n",
       "      <td>3.30</td>\n",
       "      <td>0.46</td>\n",
       "      <td>9.4</td>\n",
       "      <td>5</td>\n",
       "    </tr>\n",
       "    <tr>\n",
       "      <th>7</th>\n",
       "      <td>7.3</td>\n",
       "      <td>0.650</td>\n",
       "      <td>0.00</td>\n",
       "      <td>1.2</td>\n",
       "      <td>0.065</td>\n",
       "      <td>15.0</td>\n",
       "      <td>21.0</td>\n",
       "      <td>0.9946</td>\n",
       "      <td>3.39</td>\n",
       "      <td>0.47</td>\n",
       "      <td>10.0</td>\n",
       "      <td>7</td>\n",
       "    </tr>\n",
       "    <tr>\n",
       "      <th>8</th>\n",
       "      <td>7.8</td>\n",
       "      <td>0.580</td>\n",
       "      <td>0.02</td>\n",
       "      <td>2.0</td>\n",
       "      <td>0.073</td>\n",
       "      <td>9.0</td>\n",
       "      <td>18.0</td>\n",
       "      <td>0.9968</td>\n",
       "      <td>3.36</td>\n",
       "      <td>0.57</td>\n",
       "      <td>9.5</td>\n",
       "      <td>7</td>\n",
       "    </tr>\n",
       "    <tr>\n",
       "      <th>9</th>\n",
       "      <td>7.5</td>\n",
       "      <td>0.500</td>\n",
       "      <td>0.36</td>\n",
       "      <td>6.1</td>\n",
       "      <td>0.071</td>\n",
       "      <td>17.0</td>\n",
       "      <td>102.0</td>\n",
       "      <td>0.9978</td>\n",
       "      <td>3.35</td>\n",
       "      <td>0.80</td>\n",
       "      <td>10.5</td>\n",
       "      <td>5</td>\n",
       "    </tr>\n",
       "    <tr>\n",
       "      <th>10</th>\n",
       "      <td>6.7</td>\n",
       "      <td>0.580</td>\n",
       "      <td>0.08</td>\n",
       "      <td>1.8</td>\n",
       "      <td>0.097</td>\n",
       "      <td>15.0</td>\n",
       "      <td>65.0</td>\n",
       "      <td>0.9959</td>\n",
       "      <td>3.28</td>\n",
       "      <td>0.54</td>\n",
       "      <td>9.2</td>\n",
       "      <td>5</td>\n",
       "    </tr>\n",
       "    <tr>\n",
       "      <th>11</th>\n",
       "      <td>7.5</td>\n",
       "      <td>0.500</td>\n",
       "      <td>0.36</td>\n",
       "      <td>6.1</td>\n",
       "      <td>0.071</td>\n",
       "      <td>17.0</td>\n",
       "      <td>102.0</td>\n",
       "      <td>0.9978</td>\n",
       "      <td>3.35</td>\n",
       "      <td>0.80</td>\n",
       "      <td>10.5</td>\n",
       "      <td>5</td>\n",
       "    </tr>\n",
       "    <tr>\n",
       "      <th>12</th>\n",
       "      <td>5.6</td>\n",
       "      <td>0.615</td>\n",
       "      <td>0.00</td>\n",
       "      <td>1.6</td>\n",
       "      <td>0.089</td>\n",
       "      <td>16.0</td>\n",
       "      <td>59.0</td>\n",
       "      <td>0.9943</td>\n",
       "      <td>3.58</td>\n",
       "      <td>0.52</td>\n",
       "      <td>9.9</td>\n",
       "      <td>5</td>\n",
       "    </tr>\n",
       "    <tr>\n",
       "      <th>13</th>\n",
       "      <td>7.8</td>\n",
       "      <td>0.610</td>\n",
       "      <td>0.29</td>\n",
       "      <td>1.6</td>\n",
       "      <td>0.114</td>\n",
       "      <td>9.0</td>\n",
       "      <td>29.0</td>\n",
       "      <td>0.9974</td>\n",
       "      <td>3.26</td>\n",
       "      <td>1.56</td>\n",
       "      <td>9.1</td>\n",
       "      <td>5</td>\n",
       "    </tr>\n",
       "    <tr>\n",
       "      <th>14</th>\n",
       "      <td>8.9</td>\n",
       "      <td>0.620</td>\n",
       "      <td>0.18</td>\n",
       "      <td>3.8</td>\n",
       "      <td>0.176</td>\n",
       "      <td>52.0</td>\n",
       "      <td>145.0</td>\n",
       "      <td>0.9986</td>\n",
       "      <td>3.16</td>\n",
       "      <td>0.88</td>\n",
       "      <td>9.2</td>\n",
       "      <td>5</td>\n",
       "    </tr>\n",
       "  </tbody>\n",
       "</table>\n",
       "</div>"
      ],
      "text/plain": [
       "    fixed acidity  volatile acidity  citric acid  residual sugar  chlorides  \\\n",
       "0             7.4             0.700         0.00             1.9      0.076   \n",
       "1             7.8             0.880         0.00             2.6      0.098   \n",
       "2             7.8             0.760         0.04             2.3      0.092   \n",
       "3            11.2             0.280         0.56             1.9      0.075   \n",
       "4             7.4             0.700         0.00             1.9      0.076   \n",
       "5             7.4             0.660         0.00             1.8      0.075   \n",
       "6             7.9             0.600         0.06             1.6      0.069   \n",
       "7             7.3             0.650         0.00             1.2      0.065   \n",
       "8             7.8             0.580         0.02             2.0      0.073   \n",
       "9             7.5             0.500         0.36             6.1      0.071   \n",
       "10            6.7             0.580         0.08             1.8      0.097   \n",
       "11            7.5             0.500         0.36             6.1      0.071   \n",
       "12            5.6             0.615         0.00             1.6      0.089   \n",
       "13            7.8             0.610         0.29             1.6      0.114   \n",
       "14            8.9             0.620         0.18             3.8      0.176   \n",
       "\n",
       "    free sulfur dioxide  total sulfur dioxide  density    pH  sulphates  \\\n",
       "0                  11.0                  34.0   0.9978  3.51       0.56   \n",
       "1                  25.0                  67.0   0.9968  3.20       0.68   \n",
       "2                  15.0                  54.0   0.9970  3.26       0.65   \n",
       "3                  17.0                  60.0   0.9980  3.16       0.58   \n",
       "4                  11.0                  34.0   0.9978  3.51       0.56   \n",
       "5                  13.0                  40.0   0.9978  3.51       0.56   \n",
       "6                  15.0                  59.0   0.9964  3.30       0.46   \n",
       "7                  15.0                  21.0   0.9946  3.39       0.47   \n",
       "8                   9.0                  18.0   0.9968  3.36       0.57   \n",
       "9                  17.0                 102.0   0.9978  3.35       0.80   \n",
       "10                 15.0                  65.0   0.9959  3.28       0.54   \n",
       "11                 17.0                 102.0   0.9978  3.35       0.80   \n",
       "12                 16.0                  59.0   0.9943  3.58       0.52   \n",
       "13                  9.0                  29.0   0.9974  3.26       1.56   \n",
       "14                 52.0                 145.0   0.9986  3.16       0.88   \n",
       "\n",
       "    alcohol  quality  \n",
       "0       9.4        5  \n",
       "1       9.8        5  \n",
       "2       9.8        5  \n",
       "3       9.8        6  \n",
       "4       9.4        5  \n",
       "5       9.4        5  \n",
       "6       9.4        5  \n",
       "7      10.0        7  \n",
       "8       9.5        7  \n",
       "9      10.5        5  \n",
       "10      9.2        5  \n",
       "11     10.5        5  \n",
       "12      9.9        5  \n",
       "13      9.1        5  \n",
       "14      9.2        5  "
      ]
     },
     "execution_count": 10,
     "metadata": {},
     "output_type": "execute_result"
    }
   ],
   "source": [
    "data.head(15)"
   ]
  },
  {
   "cell_type": "code",
   "execution_count": 6,
   "id": "a4389519",
   "metadata": {},
   "outputs": [
    {
     "data": {
      "text/plain": [
       "(1599, 12)"
      ]
     },
     "execution_count": 6,
     "metadata": {},
     "output_type": "execute_result"
    }
   ],
   "source": [
    "data.shape"
   ]
  },
  {
   "cell_type": "markdown",
   "id": "948074a9",
   "metadata": {},
   "source": [
    "Imprime true si hay columnas con valores vacios o false si estan todos llenos"
   ]
  },
  {
   "cell_type": "code",
   "execution_count": 4,
   "id": "07689dc9",
   "metadata": {},
   "outputs": [
    {
     "name": "stdout",
     "output_type": "stream",
     "text": [
      "fixed acidity           False\n",
      "volatile acidity        False\n",
      "citric acid             False\n",
      "residual sugar          False\n",
      "chlorides               False\n",
      "free sulfur dioxide     False\n",
      "total sulfur dioxide    False\n",
      "density                 False\n",
      "pH                      False\n",
      "sulphates               False\n",
      "alcohol                 False\n",
      "quality                 False\n",
      "dtype: bool\n"
     ]
    }
   ],
   "source": [
    "print(data.isnull().any())"
   ]
  },
  {
   "cell_type": "code",
   "execution_count": 16,
   "id": "296a2d7c",
   "metadata": {},
   "outputs": [
    {
     "name": "stdout",
     "output_type": "stream",
     "text": [
      "La cantidad de valores vacíos en fixed acidity es: 0\n",
      "La cantidad de valores vacíos en volatile acidity es: 0\n",
      "La cantidad de valores vacíos en citric acid es: 132\n",
      "La cantidad de valores vacíos en residual sugar es: 0\n",
      "La cantidad de valores vacíos en chlorides es: 0\n",
      "La cantidad de valores vacíos en free sulfur dioxide es: 0\n",
      "La cantidad de valores vacíos en total sulfur dioxide es: 0\n",
      "La cantidad de valores vacíos en density es: 0\n",
      "La cantidad de valores vacíos en pH es: 0\n",
      "La cantidad de valores vacíos en sulphates es: 0\n",
      "La cantidad de valores vacíos en alcohol es: 0\n",
      "La cantidad de valores vacíos en quality es: 0\n"
     ]
    }
   ],
   "source": [
    "print(f\"La cantidad de valores vacíos en fixed acidity es: {data['fixed acidity'].isin([0]).sum()}\")\n",
    "print(f\"La cantidad de valores vacíos en volatile acidity es: {data['volatile acidity'].isin([0]).sum()}\")\n",
    "print(f\"La cantidad de valores vacíos en citric acid es: {data['citric acid'].isin([0]).sum()}\")\n",
    "print(f\"La cantidad de valores vacíos en residual sugar es: {data['residual sugar'].isin([0]).sum()}\")\n",
    "print(f\"La cantidad de valores vacíos en chlorides es: {data['chlorides'].isin([0]).sum()}\")\n",
    "print(f\"La cantidad de valores vacíos en free sulfur dioxide es: {data['free sulfur dioxide'].isin([0]).sum()}\")\n",
    "print(f\"La cantidad de valores vacíos en total sulfur dioxide es: {data['total sulfur dioxide'].isin([0]).sum()}\")\n",
    "print(f\"La cantidad de valores vacíos en density es: {data['density'].isin([0]).sum()}\")\n",
    "print(f\"La cantidad de valores vacíos en pH es: {data['pH'].isin([0]).sum()}\")\n",
    "print(f\"La cantidad de valores vacíos en sulphates es: {data['sulphates'].isin([0]).sum()}\")\n",
    "print(f\"La cantidad de valores vacíos en alcohol es: {data['alcohol'].isin([0]).sum()}\")\n",
    "print(f\"La cantidad de valores vacíos en quality es: {data['quality'].isin([0]).sum()}\")\n"
   ]
  },
  {
   "cell_type": "code",
   "execution_count": 14,
   "id": "1b979342",
   "metadata": {},
   "outputs": [
    {
     "name": "stdout",
     "output_type": "stream",
     "text": [
      "1.0\n"
     ]
    }
   ],
   "source": [
    "print(data['citric acid'].max())"
   ]
  },
  {
   "cell_type": "code",
   "execution_count": 7,
   "id": "bf9344e3",
   "metadata": {},
   "outputs": [
    {
     "data": {
      "text/plain": [
       "fixed acidity           float64\n",
       "volatile acidity        float64\n",
       "citric acid             float64\n",
       "residual sugar          float64\n",
       "chlorides               float64\n",
       "free sulfur dioxide     float64\n",
       "total sulfur dioxide    float64\n",
       "density                 float64\n",
       "pH                      float64\n",
       "sulphates               float64\n",
       "alcohol                 float64\n",
       "quality                   int64\n",
       "dtype: object"
      ]
     },
     "execution_count": 7,
     "metadata": {},
     "output_type": "execute_result"
    }
   ],
   "source": [
    "data.dtypes"
   ]
  },
  {
   "cell_type": "code",
   "execution_count": 23,
   "id": "bd1d496f-c665-4698-8223-013923ebd24d",
   "metadata": {
    "tags": []
   },
   "outputs": [
    {
     "data": {
      "text/html": [
       "<div>\n",
       "<style scoped>\n",
       "    .dataframe tbody tr th:only-of-type {\n",
       "        vertical-align: middle;\n",
       "    }\n",
       "\n",
       "    .dataframe tbody tr th {\n",
       "        vertical-align: top;\n",
       "    }\n",
       "\n",
       "    .dataframe thead th {\n",
       "        text-align: right;\n",
       "    }\n",
       "</style>\n",
       "<table border=\"1\" class=\"dataframe\">\n",
       "  <thead>\n",
       "    <tr style=\"text-align: right;\">\n",
       "      <th></th>\n",
       "      <th>total sulfur dioxide</th>\n",
       "      <th>alcohol</th>\n",
       "    </tr>\n",
       "  </thead>\n",
       "  <tbody>\n",
       "    <tr>\n",
       "      <th>0</th>\n",
       "      <td>34.0</td>\n",
       "      <td>9.4</td>\n",
       "    </tr>\n",
       "    <tr>\n",
       "      <th>1</th>\n",
       "      <td>67.0</td>\n",
       "      <td>9.8</td>\n",
       "    </tr>\n",
       "    <tr>\n",
       "      <th>2</th>\n",
       "      <td>54.0</td>\n",
       "      <td>9.8</td>\n",
       "    </tr>\n",
       "    <tr>\n",
       "      <th>3</th>\n",
       "      <td>60.0</td>\n",
       "      <td>9.8</td>\n",
       "    </tr>\n",
       "    <tr>\n",
       "      <th>4</th>\n",
       "      <td>34.0</td>\n",
       "      <td>9.4</td>\n",
       "    </tr>\n",
       "  </tbody>\n",
       "</table>\n",
       "</div>"
      ],
      "text/plain": [
       "   total sulfur dioxide  alcohol\n",
       "0                  34.0      9.4\n",
       "1                  67.0      9.8\n",
       "2                  54.0      9.8\n",
       "3                  60.0      9.8\n",
       "4                  34.0      9.4"
      ]
     },
     "execution_count": 23,
     "metadata": {},
     "output_type": "execute_result"
    }
   ],
   "source": [
    "data[['total sulfur dioxide','alcohol']].head()"
   ]
  },
  {
   "cell_type": "code",
   "execution_count": 27,
   "id": "9482f682-eb8e-49e2-a357-57d4e5620f2d",
   "metadata": {
    "tags": []
   },
   "outputs": [
    {
     "data": {
      "text/plain": [
       "<Axes: xlabel='total sulfur dioxide', ylabel='alcohol'>"
      ]
     },
     "execution_count": 27,
     "metadata": {},
     "output_type": "execute_result"
    },
    {
     "data": {
      "image/png": "[encoded data removed]",
      "text/plain": [
       "<Figure size 640x480 with 1 Axes>"
      ]
     },
     "metadata": {},
     "output_type": "display_data"
    }
   ],
   "source": [
    "data[['total sulfur dioxide','alcohol']].plot.scatter(x='total sulfur dioxide', y='alcohol')"
   ]
  },
  {
   "cell_type": "code",
   "execution_count": 28,
   "id": "b624a4a4-3259-4885-abd9-40e4833539e8",
   "metadata": {
    "tags": []
   },
   "outputs": [],
   "source": [
    "# pruebas de parametro \n",
    "\n",
    "w = -0.00055169\n",
    "b = -14.58847"
   ]
  },
  {
   "cell_type": "code",
   "execution_count": 29,
   "id": "4417e11a-137c-4ab3-bb8c-299bc7c767f6",
   "metadata": {
    "tags": []
   },
   "outputs": [
    {
     "data": {
      "image/png": "[encoded data removed]",
      "text/plain": [
       "<Figure size 640x480 with 1 Axes>"
      ]
     },
     "metadata": {},
     "output_type": "display_data"
    }
   ],
   "source": [
    "# puntos de la recta\n",
    "x = np.linspace(1910,data['total sulfur dioxide'].max(),10)\n",
    "y = 1/(1+np.exp(-(w*x+b)))\n",
    "\n",
    "# grafica de la recta\n",
    "data.plot.scatter(x='total sulfur dioxide',y='alcohol')\n",
    "plt.plot(x, y, '-r')\n",
    "plt.ylim(0,data['alcohol'].max()*1.1)\n",
    "# plt.grid()\n",
    "plt.show()"
   ]
  },
  {
   "cell_type": "code",
   "execution_count": 118,
   "id": "15feaa51-244a-48f3-809a-d793a143f3c0",
   "metadata": {
    "tags": []
   },
   "outputs": [],
   "source": [
    "# calculo de las predicciones\n",
    "data['sigmoid'] = 1/(1+np.exp(-(data['year']*w+b)))"
   ]
  },
  {
   "cell_type": "code",
   "execution_count": 119,
   "id": "35230f7f-cf05-4b27-b8c5-22f26195d052",
   "metadata": {
    "tags": []
   },
   "outputs": [
    {
     "data": {
      "text/plain": [
       "116398.97668086365"
      ]
     },
     "execution_count": 119,
     "metadata": {},
     "output_type": "execute_result"
    }
   ],
   "source": [
    "# calculo de la funcion de error\n",
    "data['loss_xi'] = -data['priceUSD']*np.log(data['sigmoid'])-(1-data['priceUSD'])*np.log(1-data['sigmoid'])\n",
    "cost_j = data['loss_xi'].mean()\n",
    "cost_j"
   ]
  },
  {
   "cell_type": "code",
   "execution_count": 120,
   "id": "bf9b11af-b193-48f3-8cbf-8725c0e7ac27",
   "metadata": {
    "tags": []
   },
   "outputs": [],
   "source": [
    "# hacemos dataframe para calcular el error en funcion de los parametros w, b\n",
    "array = np.mgrid[0.05:0.15:0.01, -4:-3:0.01].reshape(2,-1).T\n",
    "df = pd.DataFrame(data = array, \n",
    "                  columns = ['w','b'])\n",
    "\n",
    "# round para solventar problema con muchos decimales\n",
    "df['w'] = np.round(df['w'], 6)\n",
    "df['b'] = np.round(df['b'], 6)"
   ]
  },
  {
   "cell_type": "code",
   "execution_count": 121,
   "id": "8e9b3905-bb88-4d31-a513-491db6d958c2",
   "metadata": {
    "tags": []
   },
   "outputs": [
    {
     "data": {
      "text/html": [
       "<div>\n",
       "<style scoped>\n",
       "    .dataframe tbody tr th:only-of-type {\n",
       "        vertical-align: middle;\n",
       "    }\n",
       "\n",
       "    .dataframe tbody tr th {\n",
       "        vertical-align: top;\n",
       "    }\n",
       "\n",
       "    .dataframe thead th {\n",
       "        text-align: right;\n",
       "    }\n",
       "</style>\n",
       "<table border=\"1\" class=\"dataframe\">\n",
       "  <thead>\n",
       "    <tr style=\"text-align: right;\">\n",
       "      <th></th>\n",
       "      <th>w</th>\n",
       "      <th>b</th>\n",
       "    </tr>\n",
       "  </thead>\n",
       "  <tbody>\n",
       "    <tr>\n",
       "      <th>0</th>\n",
       "      <td>0.05</td>\n",
       "      <td>-4.00</td>\n",
       "    </tr>\n",
       "    <tr>\n",
       "      <th>1</th>\n",
       "      <td>0.05</td>\n",
       "      <td>-3.99</td>\n",
       "    </tr>\n",
       "    <tr>\n",
       "      <th>2</th>\n",
       "      <td>0.05</td>\n",
       "      <td>-3.98</td>\n",
       "    </tr>\n",
       "    <tr>\n",
       "      <th>3</th>\n",
       "      <td>0.05</td>\n",
       "      <td>-3.97</td>\n",
       "    </tr>\n",
       "    <tr>\n",
       "      <th>4</th>\n",
       "      <td>0.05</td>\n",
       "      <td>-3.96</td>\n",
       "    </tr>\n",
       "    <tr>\n",
       "      <th>...</th>\n",
       "      <td>...</td>\n",
       "      <td>...</td>\n",
       "    </tr>\n",
       "    <tr>\n",
       "      <th>995</th>\n",
       "      <td>0.14</td>\n",
       "      <td>-3.05</td>\n",
       "    </tr>\n",
       "    <tr>\n",
       "      <th>996</th>\n",
       "      <td>0.14</td>\n",
       "      <td>-3.04</td>\n",
       "    </tr>\n",
       "    <tr>\n",
       "      <th>997</th>\n",
       "      <td>0.14</td>\n",
       "      <td>-3.03</td>\n",
       "    </tr>\n",
       "    <tr>\n",
       "      <th>998</th>\n",
       "      <td>0.14</td>\n",
       "      <td>-3.02</td>\n",
       "    </tr>\n",
       "    <tr>\n",
       "      <th>999</th>\n",
       "      <td>0.14</td>\n",
       "      <td>-3.01</td>\n",
       "    </tr>\n",
       "  </tbody>\n",
       "</table>\n",
       "<p>1000 rows × 2 columns</p>\n",
       "</div>"
      ],
      "text/plain": [
       "        w     b\n",
       "0    0.05 -4.00\n",
       "1    0.05 -3.99\n",
       "2    0.05 -3.98\n",
       "3    0.05 -3.97\n",
       "4    0.05 -3.96\n",
       "..    ...   ...\n",
       "995  0.14 -3.05\n",
       "996  0.14 -3.04\n",
       "997  0.14 -3.03\n",
       "998  0.14 -3.02\n",
       "999  0.14 -3.01\n",
       "\n",
       "[1000 rows x 2 columns]"
      ]
     },
     "execution_count": 121,
     "metadata": {},
     "output_type": "execute_result"
    }
   ],
   "source": [
    "df"
   ]
  },
  {
   "cell_type": "code",
   "execution_count": 122,
   "id": "64a38e8a-6337-4dba-9d98-bc65afc11fc5",
   "metadata": {
    "tags": []
   },
   "outputs": [],
   "source": [
    "def sum_error_df(df):\n",
    "    data['sigmoid'] = 1/(1+np.exp(-(data['year']*df['w']+df['b'])))\n",
    "    data['loss_xi'] = -data['priceUSD']*np.log(data['sigmoid'])-(1-data['priceUSD'])*np.log(1-data['sigmoid'])\n",
    "    j_cost = data['loss_xi'].mean()\n",
    "    return(j_cost)"
   ]
  },
  {
   "cell_type": "code",
   "execution_count": 123,
   "id": "465ef47d-8f46-4a90-b5c3-242e7477260a",
   "metadata": {
    "tags": []
   },
   "outputs": [
    {
     "name": "stderr",
     "output_type": "stream",
     "text": [
      "C:\\Users\\adm_usu\\AppData\\Local\\anaconda3\\Lib\\site-packages\\pandas\\core\\arraylike.py:402: RuntimeWarning: divide by zero encountered in log\n",
      "  result = getattr(ufunc, method)(*inputs, **kwargs)\n"
     ]
    }
   ],
   "source": [
    "df['error'] = df.apply(sum_error_df, axis=1)"
   ]
  },
  {
   "cell_type": "code",
   "execution_count": 111,
   "id": "7ec89392-308e-4b87-981f-e67ff6a92367",
   "metadata": {
    "tags": []
   },
   "outputs": [
    {
     "data": {
      "text/html": [
       "<div>\n",
       "<style scoped>\n",
       "    .dataframe tbody tr th:only-of-type {\n",
       "        vertical-align: middle;\n",
       "    }\n",
       "\n",
       "    .dataframe tbody tr th {\n",
       "        vertical-align: top;\n",
       "    }\n",
       "\n",
       "    .dataframe thead th {\n",
       "        text-align: right;\n",
       "    }\n",
       "</style>\n",
       "<table border=\"1\" class=\"dataframe\">\n",
       "  <thead>\n",
       "    <tr style=\"text-align: right;\">\n",
       "      <th></th>\n",
       "      <th>w</th>\n",
       "      <th>b</th>\n",
       "      <th>error</th>\n",
       "    </tr>\n",
       "  </thead>\n",
       "  <tbody>\n",
       "    <tr>\n",
       "      <th>0</th>\n",
       "      <td>0.05</td>\n",
       "      <td>-4.00</td>\n",
       "      <td>-inf</td>\n",
       "    </tr>\n",
       "    <tr>\n",
       "      <th>658</th>\n",
       "      <td>0.11</td>\n",
       "      <td>-3.42</td>\n",
       "      <td>-inf</td>\n",
       "    </tr>\n",
       "    <tr>\n",
       "      <th>659</th>\n",
       "      <td>0.11</td>\n",
       "      <td>-3.41</td>\n",
       "      <td>-inf</td>\n",
       "    </tr>\n",
       "    <tr>\n",
       "      <th>660</th>\n",
       "      <td>0.11</td>\n",
       "      <td>-3.40</td>\n",
       "      <td>-inf</td>\n",
       "    </tr>\n",
       "    <tr>\n",
       "      <th>661</th>\n",
       "      <td>0.11</td>\n",
       "      <td>-3.39</td>\n",
       "      <td>-inf</td>\n",
       "    </tr>\n",
       "  </tbody>\n",
       "</table>\n",
       "</div>"
      ],
      "text/plain": [
       "        w     b  error\n",
       "0    0.05 -4.00   -inf\n",
       "658  0.11 -3.42   -inf\n",
       "659  0.11 -3.41   -inf\n",
       "660  0.11 -3.40   -inf\n",
       "661  0.11 -3.39   -inf"
      ]
     },
     "execution_count": 111,
     "metadata": {},
     "output_type": "execute_result"
    }
   ],
   "source": [
    "df.sort_values(by=['error']).head()"
   ]
  },
  {
   "cell_type": "code",
   "execution_count": 82,
   "id": "687518c6-7aef-4209-a951-fd47b3a5cd3c",
   "metadata": {},
   "outputs": [],
   "source": [
    "df_3d = df.pivot(index='w', columns='b', values='error')\n"
   ]
  },
  {
   "cell_type": "code",
   "execution_count": 83,
   "id": "c54db7cb-0b8e-428b-9f47-aadf72f12f1e",
   "metadata": {
    "tags": []
   },
   "outputs": [
    {
     "data": {
      "text/html": [
       "<div>\n",
       "<style scoped>\n",
       "    .dataframe tbody tr th:only-of-type {\n",
       "        vertical-align: middle;\n",
       "    }\n",
       "\n",
       "    .dataframe tbody tr th {\n",
       "        vertical-align: top;\n",
       "    }\n",
       "\n",
       "    .dataframe thead th {\n",
       "        text-align: right;\n",
       "    }\n",
       "</style>\n",
       "<table border=\"1\" class=\"dataframe\">\n",
       "  <thead>\n",
       "    <tr style=\"text-align: right;\">\n",
       "      <th>b</th>\n",
       "      <th>-4.00</th>\n",
       "      <th>-3.99</th>\n",
       "      <th>-3.98</th>\n",
       "      <th>-3.97</th>\n",
       "      <th>-3.96</th>\n",
       "      <th>-3.95</th>\n",
       "      <th>-3.94</th>\n",
       "      <th>-3.93</th>\n",
       "      <th>-3.92</th>\n",
       "      <th>-3.91</th>\n",
       "      <th>...</th>\n",
       "      <th>-3.10</th>\n",
       "      <th>-3.09</th>\n",
       "      <th>-3.08</th>\n",
       "      <th>-3.07</th>\n",
       "      <th>-3.06</th>\n",
       "      <th>-3.05</th>\n",
       "      <th>-3.04</th>\n",
       "      <th>-3.03</th>\n",
       "      <th>-3.02</th>\n",
       "      <th>-3.01</th>\n",
       "    </tr>\n",
       "    <tr>\n",
       "      <th>w</th>\n",
       "      <th></th>\n",
       "      <th></th>\n",
       "      <th></th>\n",
       "      <th></th>\n",
       "      <th></th>\n",
       "      <th></th>\n",
       "      <th></th>\n",
       "      <th></th>\n",
       "      <th></th>\n",
       "      <th></th>\n",
       "      <th></th>\n",
       "      <th></th>\n",
       "      <th></th>\n",
       "      <th></th>\n",
       "      <th></th>\n",
       "      <th></th>\n",
       "      <th></th>\n",
       "      <th></th>\n",
       "      <th></th>\n",
       "      <th></th>\n",
       "      <th></th>\n",
       "    </tr>\n",
       "  </thead>\n",
       "  <tbody>\n",
       "    <tr>\n",
       "      <th>0.05</th>\n",
       "      <td>-inf</td>\n",
       "      <td>-inf</td>\n",
       "      <td>-inf</td>\n",
       "      <td>-inf</td>\n",
       "      <td>-inf</td>\n",
       "      <td>-inf</td>\n",
       "      <td>-inf</td>\n",
       "      <td>-inf</td>\n",
       "      <td>-inf</td>\n",
       "      <td>-inf</td>\n",
       "      <td>...</td>\n",
       "      <td>-inf</td>\n",
       "      <td>-inf</td>\n",
       "      <td>-inf</td>\n",
       "      <td>-inf</td>\n",
       "      <td>-inf</td>\n",
       "      <td>-inf</td>\n",
       "      <td>-inf</td>\n",
       "      <td>-inf</td>\n",
       "      <td>-inf</td>\n",
       "      <td>-inf</td>\n",
       "    </tr>\n",
       "    <tr>\n",
       "      <th>0.06</th>\n",
       "      <td>-inf</td>\n",
       "      <td>-inf</td>\n",
       "      <td>-inf</td>\n",
       "      <td>-inf</td>\n",
       "      <td>-inf</td>\n",
       "      <td>-inf</td>\n",
       "      <td>-inf</td>\n",
       "      <td>-inf</td>\n",
       "      <td>-inf</td>\n",
       "      <td>-inf</td>\n",
       "      <td>...</td>\n",
       "      <td>-inf</td>\n",
       "      <td>-inf</td>\n",
       "      <td>-inf</td>\n",
       "      <td>-inf</td>\n",
       "      <td>-inf</td>\n",
       "      <td>-inf</td>\n",
       "      <td>-inf</td>\n",
       "      <td>-inf</td>\n",
       "      <td>-inf</td>\n",
       "      <td>-inf</td>\n",
       "    </tr>\n",
       "    <tr>\n",
       "      <th>0.07</th>\n",
       "      <td>-inf</td>\n",
       "      <td>-inf</td>\n",
       "      <td>-inf</td>\n",
       "      <td>-inf</td>\n",
       "      <td>-inf</td>\n",
       "      <td>-inf</td>\n",
       "      <td>-inf</td>\n",
       "      <td>-inf</td>\n",
       "      <td>-inf</td>\n",
       "      <td>-inf</td>\n",
       "      <td>...</td>\n",
       "      <td>-inf</td>\n",
       "      <td>-inf</td>\n",
       "      <td>-inf</td>\n",
       "      <td>-inf</td>\n",
       "      <td>-inf</td>\n",
       "      <td>-inf</td>\n",
       "      <td>-inf</td>\n",
       "      <td>-inf</td>\n",
       "      <td>-inf</td>\n",
       "      <td>-inf</td>\n",
       "    </tr>\n",
       "    <tr>\n",
       "      <th>0.08</th>\n",
       "      <td>-inf</td>\n",
       "      <td>-inf</td>\n",
       "      <td>-inf</td>\n",
       "      <td>-inf</td>\n",
       "      <td>-inf</td>\n",
       "      <td>-inf</td>\n",
       "      <td>-inf</td>\n",
       "      <td>-inf</td>\n",
       "      <td>-inf</td>\n",
       "      <td>-inf</td>\n",
       "      <td>...</td>\n",
       "      <td>-inf</td>\n",
       "      <td>-inf</td>\n",
       "      <td>-inf</td>\n",
       "      <td>-inf</td>\n",
       "      <td>-inf</td>\n",
       "      <td>-inf</td>\n",
       "      <td>-inf</td>\n",
       "      <td>-inf</td>\n",
       "      <td>-inf</td>\n",
       "      <td>-inf</td>\n",
       "    </tr>\n",
       "    <tr>\n",
       "      <th>0.09</th>\n",
       "      <td>-inf</td>\n",
       "      <td>-inf</td>\n",
       "      <td>-inf</td>\n",
       "      <td>-inf</td>\n",
       "      <td>-inf</td>\n",
       "      <td>-inf</td>\n",
       "      <td>-inf</td>\n",
       "      <td>-inf</td>\n",
       "      <td>-inf</td>\n",
       "      <td>-inf</td>\n",
       "      <td>...</td>\n",
       "      <td>-inf</td>\n",
       "      <td>-inf</td>\n",
       "      <td>-inf</td>\n",
       "      <td>-inf</td>\n",
       "      <td>-inf</td>\n",
       "      <td>-inf</td>\n",
       "      <td>-inf</td>\n",
       "      <td>-inf</td>\n",
       "      <td>-inf</td>\n",
       "      <td>-inf</td>\n",
       "    </tr>\n",
       "  </tbody>\n",
       "</table>\n",
       "<p>5 rows × 100 columns</p>\n",
       "</div>"
      ],
      "text/plain": [
       "b     -4.00  -3.99  -3.98  -3.97  -3.96  -3.95  -3.94  -3.93  -3.92  -3.91  \\\n",
       "w                                                                            \n",
       "0.05   -inf   -inf   -inf   -inf   -inf   -inf   -inf   -inf   -inf   -inf   \n",
       "0.06   -inf   -inf   -inf   -inf   -inf   -inf   -inf   -inf   -inf   -inf   \n",
       "0.07   -inf   -inf   -inf   -inf   -inf   -inf   -inf   -inf   -inf   -inf   \n",
       "0.08   -inf   -inf   -inf   -inf   -inf   -inf   -inf   -inf   -inf   -inf   \n",
       "0.09   -inf   -inf   -inf   -inf   -inf   -inf   -inf   -inf   -inf   -inf   \n",
       "\n",
       "b     ...  -3.10  -3.09  -3.08  -3.07  -3.06  -3.05  -3.04  -3.03  -3.02  \\\n",
       "w     ...                                                                  \n",
       "0.05  ...   -inf   -inf   -inf   -inf   -inf   -inf   -inf   -inf   -inf   \n",
       "0.06  ...   -inf   -inf   -inf   -inf   -inf   -inf   -inf   -inf   -inf   \n",
       "0.07  ...   -inf   -inf   -inf   -inf   -inf   -inf   -inf   -inf   -inf   \n",
       "0.08  ...   -inf   -inf   -inf   -inf   -inf   -inf   -inf   -inf   -inf   \n",
       "0.09  ...   -inf   -inf   -inf   -inf   -inf   -inf   -inf   -inf   -inf   \n",
       "\n",
       "b     -3.01  \n",
       "w            \n",
       "0.05   -inf  \n",
       "0.06   -inf  \n",
       "0.07   -inf  \n",
       "0.08   -inf  \n",
       "0.09   -inf  \n",
       "\n",
       "[5 rows x 100 columns]"
      ]
     },
     "execution_count": 83,
     "metadata": {},
     "output_type": "execute_result"
    }
   ],
   "source": [
    "df_3d.head()"
   ]
  },
  {
   "cell_type": "code",
   "execution_count": 84,
   "id": "9a130ca4-8af9-46b9-a772-8f38103d8d7b",
   "metadata": {
    "tags": []
   },
   "outputs": [],
   "source": [
    "import matplotlib as mpl\n",
    "import matplotlib.pyplot as plt\n",
    "from mpl_toolkits.mplot3d import Axes3D"
   ]
  },
  {
   "cell_type": "code",
   "execution_count": 85,
   "id": "447c079e-8793-4665-8066-bad15760a054",
   "metadata": {
    "tags": []
   },
   "outputs": [
    {
     "name": "stderr",
     "output_type": "stream",
     "text": [
      "C:\\Users\\adm_usu\\AppData\\Local\\anaconda3\\Lib\\site-packages\\mpl_toolkits\\mplot3d\\art3d.py:1180: RuntimeWarning: invalid value encountered in subtract\n",
      "  v1[poly_i, :] = ps[i1, :] - ps[i2, :]\n",
      "C:\\Users\\adm_usu\\AppData\\Local\\anaconda3\\Lib\\site-packages\\mpl_toolkits\\mplot3d\\art3d.py:1181: RuntimeWarning: invalid value encountered in subtract\n",
      "  v2[poly_i, :] = ps[i2, :] - ps[i3, :]\n"
     ]
    },
    {
     "data": {
      "text/plain": [
       "<mpl_toolkits.mplot3d.art3d.Poly3DCollection at 0x2eecba17310>"
      ]
     },
     "execution_count": 85,
     "metadata": {},
     "output_type": "execute_result"
    },
    {
     "name": "stderr",
     "output_type": "stream",
     "text": [
      "C:\\Users\\adm_usu\\AppData\\Local\\anaconda3\\Lib\\site-packages\\mpl_toolkits\\mplot3d\\proj3d.py:180: RuntimeWarning: invalid value encountered in divide\n",
      "  txs, tys, tzs = vecw[0]/w, vecw[1]/w, vecw[2]/w\n"
     ]
    },
    {
     "data": {
      "image/png": "[encoded data removed]",
      "text/plain": [
       "<Figure size 640x480 with 1 Axes>"
      ]
     },
     "metadata": {},
     "output_type": "display_data"
    }
   ],
   "source": [
    "x = df_3d.columns\n",
    "y = df_3d.index\n",
    "X,Y = np.meshgrid(x,y)\n",
    "Z = df_3d\n",
    "\n",
    "fig = plt.figure()\n",
    "ax = fig.add_subplot(111, projection='3d')\n",
    "ax.plot_surface(X, Y, Z)"
   ]
  },
  {
   "cell_type": "code",
   "execution_count": 86,
   "id": "5ea476e4-51db-4876-805d-5d6e24c257a9",
   "metadata": {
    "tags": []
   },
   "outputs": [
    {
     "name": "stderr",
     "output_type": "stream",
     "text": [
      "C:\\Users\\adm_usu\\AppData\\Local\\anaconda3\\Lib\\site-packages\\matplotlib\\contour.py:1454: UserWarning: Warning: converting a masked element to nan.\n",
      "  self.zmax = float(z.max())\n",
      "C:\\Users\\adm_usu\\AppData\\Local\\anaconda3\\Lib\\site-packages\\matplotlib\\contour.py:1455: UserWarning: Warning: converting a masked element to nan.\n",
      "  self.zmin = float(z.min())\n"
     ]
    },
    {
     "data": {
      "text/plain": [
       "<matplotlib.contour.QuadContourSet at 0x2eecbb550d0>"
      ]
     },
     "execution_count": 86,
     "metadata": {},
     "output_type": "execute_result"
    },
    {
     "data": {
      "image/png": "[encoded data removed]",
      "text/plain": [
       "<Figure size 640x480 with 1 Axes>"
      ]
     },
     "metadata": {},
     "output_type": "display_data"
    }
   ],
   "source": [
    "x = df_3d.columns\n",
    "y = df_3d.index\n",
    "X,Y = np.meshgrid(x,y)\n",
    "Z = df_3d\n",
    "plt.contourf(Y, X, Z, alpha=0.7, cmap=plt.cm.jet)\n"
   ]
  },
  {
   "cell_type": "code",
   "execution_count": 87,
   "id": "11430942-b5e1-4e6d-9db6-5810c059c81a",
   "metadata": {
    "tags": []
   },
   "outputs": [],
   "source": [
    "# Optimizando los parámetros\n",
    "def delta_j_w(w, b):\n",
    "    data['sigmoid'] = 1/(1+np.exp(-(data['year']*w+b)))\n",
    "    data['partial_loss'] = (data['sigmoid']-data['priceUSD'])*data['year']\n",
    "    derivative = data['partial_loss'].mean()\n",
    "    return(derivative) \n",
    "\n",
    "def delta_j_b(w, b):\n",
    "    data['sigmoid'] = 1/(1+np.exp(-(data['year']*w+b)))\n",
    "    data['partial_loss'] = (data['sigmoid']-data['priceUSD'])\n",
    "    derivative = data['partial_loss'].mean()\n",
    "    return(derivative) "
   ]
  },
  {
   "cell_type": "code",
   "execution_count": 91,
   "id": "1d4c8da9-62dd-49e8-9e00-6e7e1e441089",
   "metadata": {
    "tags": []
   },
   "outputs": [],
   "source": [
    "# Damos valores iniciales a \n",
    "w_0 = -0.00055169\n",
    "w_b = -14.58847"
   ]
  },
  {
   "cell_type": "code",
   "execution_count": 92,
   "id": "319133b7-d74d-4acc-884a-d7b054f39084",
   "metadata": {
    "tags": []
   },
   "outputs": [
    {
     "name": "stdout",
     "output_type": "stream",
     "text": [
      "14895.51610877156 1479.3212879596044\n"
     ]
    }
   ],
   "source": [
    "# Empezamos a iterar hasta obtener valores que no varíen tanto\n",
    "alpha_w = 0.001\n",
    "alpha_b = 0.1\n",
    "\n",
    "w_new = w_0 - alpha_w * delta_j_w(w_0, b_0)\n",
    "b_new = b_0 - alpha_b * delta_j_b(w_0, b_0)\n",
    "\n",
    "w_0 = w_new\n",
    "b_0 = b_new\n",
    "\n",
    "print(w_0, b_0)"
   ]
  },
  {
   "cell_type": "code",
   "execution_count": 90,
   "id": "de36c9fa-53aa-4fbf-beda-9c212c12a684",
   "metadata": {
    "tags": []
   },
   "outputs": [
    {
     "name": "stdout",
     "output_type": "stream",
     "text": [
      "intercepto (b): [-2.63573742e-07 -2.76106222e-07  2.29901556e-07 ... -2.78580967e-07\n",
      " -2.78872667e-07 -2.79164484e-07]\n",
      "pendiente (w): [[-0.00057618]\n",
      " [-0.0005564 ]\n",
      " [ 0.00041335]\n",
      " ...\n",
      " [-0.00055258]\n",
      " [-0.00055213]\n",
      " [-0.00055169]]\n"
     ]
    }
   ],
   "source": [
    "#  lo mismo pero mucho más rápido con sklear\n",
    "from sklearn.linear_model import LogisticRegression\n",
    "\n",
    "# definiendo input y output\n",
    "X_data = np.array(data['year']).reshape((-1, 1))\n",
    "Y_data = np.array(data['priceUSD'])\n",
    "\n",
    "# creando modelo\n",
    "model = LogisticRegression()\n",
    "model.fit(X_data, Y_data)\n",
    "\n",
    "# imprimiendo parametros\n",
    "print(f\"intercepto (b): {model.intercept_}\")\n",
    "print(f\"pendiente (w): {model.coef_}\")"
   ]
  },
  {
   "cell_type": "code",
   "execution_count": null,
   "id": "251b1cf1-4780-4744-89e4-de2d8e95d73e",
   "metadata": {},
   "outputs": [],
   "source": []
  },
  {
   "cell_type": "code",
   "execution_count": null,
   "id": "25642862-b39b-4835-93b0-5962e49be36d",
   "metadata": {},
   "outputs": [],
   "source": []
  }
 ],
 "metadata": {
  "kernelspec": {
   "display_name": "Python 3 (ipykernel)",
   "language": "python",
   "name": "python3"
  },
  "language_info": {
   "codemirror_mode": {
    "name": "ipython",
    "version": 3
   },
   "file_extension": ".py",
   "mimetype": "text/x-python",
   "name": "python",
   "nbconvert_exporter": "python",
   "pygments_lexer": "ipython3",
   "version": "3.11.8"
  }
 },
 "nbformat": 4,
 "nbformat_minor": 5
}
